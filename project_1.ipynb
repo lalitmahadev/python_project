{
 "cells": [
  {
   "cell_type": "markdown",
   "id": "9ab8f76a-ed93-42ce-9406-9d37accaf034",
   "metadata": {},
   "source": [
    "#### The object of the project is to calculate the duration of how long a person lived based on his age.\n",
    "the duration sould be calcualted in the different times unit like Month, weeks, hours,days ,minutes, seconds \n",
    "the input to the application is an age of a person and the output is expected to calculate the duration of time he lived in different time unit as\n",
    "selected by the user \n",
    "below is the expected output "
   ]
  },
  {
   "cell_type": "code",
   "execution_count": 3,
   "id": "1f4dedb3-2981-4503-857e-5eef8fce6f37",
   "metadata": {},
   "outputs": [
    {
     "name": "stdin",
     "output_type": "stream",
     "text": [
      "Whats your age?  10\n",
      "please choose a time unit: months,weeks,days,hours,minutes,seconds. w\n"
     ]
    },
    {
     "name": "stdout",
     "output_type": "stream",
     "text": [
      "you lived for 521.429 weeks.\n"
     ]
    }
   ],
   "source": [
    "def calculate_duration(age,unit):\n",
    "    time_units = {\n",
    "        'months' : 12,\n",
    "        'weeks' : 52.1429,\n",
    "        'days' : 365,\n",
    "        'hours' : 365*24,\n",
    "        'minutes' : 365*24*60,\n",
    "        'seconds' : 365*24*60*60\n",
    "    }\n",
    "\n",
    "    if unit == 'm':\n",
    "        unit = 'months'\n",
    "    elif unit == 'w':\n",
    "        unit = 'weeks'\n",
    "    elif unit == 'd':\n",
    "        unit = 'days'\n",
    "    elif unit == 'h':\n",
    "        unit = 'hours'\n",
    "    elif unit == 's':\n",
    "        unit = 'seconds'\n",
    "    if unit in time_units:\n",
    "        duration = age * time_units[unit]\n",
    "        return f\"you lived for {duration:} {unit:}.\"\n",
    "    else:\n",
    "        return \"invalid time unit. please choose from months, weeks, days,hours,minutes, or seconds.\"\n",
    "try:\n",
    "    age = float(input(\"Whats your age? \"))\n",
    "    unit = input(\"please choose a time unit: months,weeks,days,hours,minutes,seconds.\")\n",
    "    result = calculate_duration(age, unit)\n",
    "    print(result)\n",
    "except ValueError:\n",
    "    print(\"invalid input. please enter a valid number for age.\")\n",
    "    "
   ]
  },
  {
   "cell_type": "code",
   "execution_count": null,
   "id": "0700c883-67d4-4399-8e4a-62c8ba4e2f91",
   "metadata": {},
   "outputs": [],
   "source": []
  },
  {
   "cell_type": "code",
   "execution_count": null,
   "id": "b56ca32b-4318-4b2c-8ff0-345b6d648065",
   "metadata": {},
   "outputs": [],
   "source": []
  }
 ],
 "metadata": {
  "kernelspec": {
   "display_name": "Python 3 (ipykernel)",
   "language": "python",
   "name": "python3"
  },
  "language_info": {
   "codemirror_mode": {
    "name": "ipython",
    "version": 3
   },
   "file_extension": ".py",
   "mimetype": "text/x-python",
   "name": "python",
   "nbconvert_exporter": "python",
   "pygments_lexer": "ipython3",
   "version": "3.12.4"
  }
 },
 "nbformat": 4,
 "nbformat_minor": 5
}
